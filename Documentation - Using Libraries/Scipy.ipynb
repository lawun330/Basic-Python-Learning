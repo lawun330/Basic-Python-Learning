{
 "cells": [
  {
   "cell_type": "markdown",
   "metadata": {},
   "source": [
    "# Documentation - Using Libraries: Scipy\n",
    "This educational notebook illustrates the use of the `scipy` library, a powerful library for scientific computing in Python.\n",
    "\n",
    "It covers:\n",
    "- Linear Algebra:\n",
    "  - Determinant calculation\n",
    "  - PLU Decomposition\n",
    "  - Eigenvalue and Eigenvector\n",
    "  - Solving Linear Equations\n",
    "- Sparse Matrix Operations:\n",
    "  - Creation and manipulation of sparse matrices\n",
    "  - CSR Format\n",
    "  - Solving Sparse Linear Equations"
   ]
  },
  {
   "cell_type": "code",
   "execution_count": 1,
   "metadata": {},
   "outputs": [],
   "source": [
    "# %pip install numpy # uncomment this line to install\n",
    "# %pip install scipy # uncomment this line to install"
   ]
  },
  {
   "cell_type": "code",
   "execution_count": 2,
   "metadata": {},
   "outputs": [],
   "source": [
    "import numpy as np\n",
    "from scipy import linalg, sparse # linear algebra and sparse\n",
    "from scipy.sparse import linalg as splinalg # sparse's linear algebra"
   ]
  },
  {
   "cell_type": "markdown",
   "metadata": {},
   "source": [
    "## 1. Determinant Calculation\n",
    "A determinant is a scalar value that can be computed from the elements of a square matrix and encodes certain properties of the linear transformation described by the matrix. It is useful in various mathematical and scientific calculations, such as finding the inverse of a matrix, calculating volumes, and solving systems of linear equations.\n",
    "\n",
    "We can calculate the determinant of a square matrix using the `linalg.det()` function."
   ]
  },
  {
   "cell_type": "code",
   "execution_count": 3,
   "metadata": {},
   "outputs": [
    {
     "name": "stdout",
     "output_type": "stream",
     "text": [
      "[[1 2]\n",
      " [4 5]]\n",
      "\n",
      "Determinant = -3.00\n"
     ]
    }
   ],
   "source": [
    "A = np.array([[1, 2], [4, 5]])\n",
    "detA = linalg.det(A)\n",
    "print(A)\n",
    "print(f\"\\nDeterminant = {detA:.2f}\")"
   ]
  },
  {
   "cell_type": "markdown",
   "metadata": {},
   "source": [
    "## 2. PLU Decomposition\n",
    "PLU decomposition is a matrix factorization technique that decomposes a square matrix into three matrices: \n",
    "- P is a permutation matrix (single one on each row & column)\n",
    "- L is a lower triangular matrix with unit diagonal\n",
    "- U is an upper triangular matrix with unit diagonal\n",
    "\n",
    "This decomposition is useful in solving systems of linear equations, finding the inverse of a matrix, and computing determinants. The `linalg.lu()` function can be used to perform PLU decomposition."
   ]
  },
  {
   "cell_type": "code",
   "execution_count": 4,
   "metadata": {},
   "outputs": [
    {
     "name": "stdout",
     "output_type": "stream",
     "text": [
      "\n",
      "P (Permutation matrix):\n",
      "[[0. 1.]\n",
      " [1. 0.]]\n",
      "\n",
      "L (Lower triangular):\n",
      "[[1.   0.  ]\n",
      " [0.25 1.  ]]\n",
      "\n",
      "U (Upper triangular):\n",
      "[[4.   5.  ]\n",
      " [0.   0.75]]\n"
     ]
    }
   ],
   "source": [
    "P, L, U = linalg.lu(A)\n",
    "print(\"\\nP (Permutation matrix):\")\n",
    "print(P)\n",
    "print(\"\\nL (Lower triangular):\")\n",
    "print(L)\n",
    "print(\"\\nU (Upper triangular):\")\n",
    "print(U)"
   ]
  },
  {
   "cell_type": "markdown",
   "metadata": {},
   "source": [
    "## 3. Eigenvalues and Eigenvectors\n",
    "Eigenvalues and eigenvectors are important concepts in linear algebra. They are used in various applications, including differential equations, quantum mechanics, and data analysis.\n",
    "\n",
    "When a linear transformation occurs, most vectors change both their direction and magnitude. However, some special vectors called eigenvectors change in magnitude only and remain in the same direction. The eigenvalue (λ) tells us exactly how much the eigenvector is stretched or compressed.\n",
    "\n",
    "When a matrix A performs a linear transformation on an eigenvector v, the result is equivalent to scaling the vector by its corresponding eigenvalue λ. This is why we can write:\n",
    "\n",
    "A * v = λ * v\n",
    "\n",
    "where:\n",
    "- A is square matrix\n",
    "- v is eigenvector (column vector)\n",
    "- λ is eigenvalue (diagonal matrix)\n",
    "\n",
    "The eigenvalues and eigenvectors of a matrix can be found using the `linalg.eig()` function."
   ]
  },
  {
   "cell_type": "code",
   "execution_count": 5,
   "metadata": {},
   "outputs": [
    {
     "name": "stdout",
     "output_type": "stream",
     "text": [
      "Eigenvalues: [-0.46410162+0.j  6.46410162+0.j]\n",
      "\n",
      "Eigenvectors:\n",
      " [[-0.80689822 -0.34372377]\n",
      " [ 0.59069049 -0.9390708 ]]\n"
     ]
    }
   ],
   "source": [
    "eigenvalues, eigenvectors = linalg.eig(A)\n",
    "print(\"Eigenvalues:\", eigenvalues)\n",
    "print(\"\\nEigenvectors:\\n\", eigenvectors)"
   ]
  },
  {
   "cell_type": "markdown",
   "metadata": {},
   "source": [
    "## 4. Solving Linear Equations\n",
    "The `linalg.solve()` function can be used to solve a system of linear equations. It requires two inputs:\n",
    "- a square matrix\n",
    "- a column vector\n",
    "\n",
    "and outputs a column vector which is the solution to the system of linear equations."
   ]
  },
  {
   "cell_type": "code",
   "execution_count": 6,
   "metadata": {},
   "outputs": [
    {
     "name": "stdout",
     "output_type": "stream",
     "text": [
      "\n",
      "Solution to Linear Equations:\n",
      "x = 2.20\n",
      "y = 0.20\n"
     ]
    }
   ],
   "source": [
    "# Solving the system:\n",
    "# 2x + 3y = 5\n",
    "# x - y = 2\n",
    "a = np.array([[2, 3], [1, -1]])\n",
    "v = np.array([5, 2])\n",
    "solution = linalg.solve(a, v)\n",
    "print(\"\\nSolution to Linear Equations:\")\n",
    "print(f\"x = {solution[0]:.2f}\")\n",
    "print(f\"y = {solution[1]:.2f}\")"
   ]
  },
  {
   "cell_type": "markdown",
   "metadata": {},
   "source": [
    "## 5. Sparse Matrix Operations\n",
    "A sparse matrix is a matrix in which most of the elements are zero. Sparse matrices are commonly used in numerical computations where the majority of the data is zero, such as in linear algebra, graph theory, and machine learning.\n",
    "\n",
    "The `sparse` library provides functions to create and manipulate sparse matrices. \n",
    "- `lil_matrix()` method -> create a sparse matrix\n",
    "- `setdiag()` method -> sets the diagonal of the matrix\n",
    "- `toarray()` method -> converts a sparse matrix to a dense array for display"
   ]
  },
  {
   "cell_type": "code",
   "execution_count": 7,
   "metadata": {},
   "outputs": [
    {
     "name": "stdout",
     "output_type": "stream",
     "text": [
      "[[100.   1.   1.   1.   1.   1.   1.   1.   1.   1.]\n",
      " [  1. 100.   1.   1.   1.   1.   1.   1.   1.   1.]\n",
      " [  1.   1. 100.   1.   1.   1.   1.   1.   1.   1.]\n",
      " [  1.   1.   1.   1.   1.   1.   1.   1.   1.   1.]\n",
      " [  1.   1.   1.   1.   1.   1.   1.   1.   1.   1.]\n",
      " [  1.   1.   1.   1.   1.   1.   1.   1.   1.   1.]\n",
      " [  1.   1.   1.   1.   1.   1.   1.   1.   1.   1.]\n",
      " [  1.   1.   1.   1.   1.   1.   1.   1.   1.   1.]\n",
      " [  1.   1.   1.   1.   1.   1.   1.   1.   1.   1.]\n",
      " [  1.   1.   1.   1.   1.   1.   1.   1.   1.   1.]]\n"
     ]
    }
   ],
   "source": [
    "# Create a sparse matrix\n",
    "B = sparse.lil_matrix((10, 10)) # create a blank 10 x 10 matrix\n",
    "B[:, :] = np.ones(10) # fill the matrix with ones\n",
    "B.setdiag(np.ones(3) * 100) # set the diagonal of the matrix to 100\n",
    "print(B.toarray())  # convert to dense array for display"
   ]
  },
  {
   "cell_type": "markdown",
   "metadata": {},
   "source": [
    "## 6. CSR Format\n",
    "The Compressed Sparse Row (CSR) format is a popular format for storing sparse matrices. It is efficient for performing operations on sparse matrices and is widely used in numerical libraries such as SciPy.\n",
    "\n",
    "The `csr_matrix()` function can be used to convert a dense matrix to CSR format."
   ]
  },
  {
   "cell_type": "code",
   "execution_count": 8,
   "metadata": {},
   "outputs": [
    {
     "name": "stdout",
     "output_type": "stream",
     "text": [
      "Original Matrix:\n",
      "[[1 2 4]\n",
      " [3 7 9]\n",
      " [2 5 6]]\n",
      "\n",
      "CSR Format:\n",
      "Data: [1 2 4 3 7 9 2 5 6]\n",
      "Indices: [0 1 2 0 1 2 0 1 2]\n",
      "Indptr: [0 3 6 9]\n"
     ]
    }
   ],
   "source": [
    "L = np.array([[1, 2, 4], [3, 7, 9], [2, 5, 6]])\n",
    "print(\"Original Matrix:\")\n",
    "print(L)\n",
    "\n",
    "# Convert to CSR format\n",
    "L_sparse = sparse.csr_matrix(L)\n",
    "print(\"\\nCSR Format:\")\n",
    "print(\"Data:\", L_sparse.data) # values in the matrix\n",
    "print(\"Indices:\", L_sparse.indices) # column indices of the non-zero elements\n",
    "\n",
    "print(\"Indptr:\", L_sparse.indptr) # row pointers to the start of each row\n",
    "    # Row 0 starts at position 0 and contains elements from index 0 to 3\n",
    "    # Row 1 starts at position 3 and contains elements from index 3 to 6\n",
    "    # Row 2 starts at position 6 and contains elements from index 6 to 9\n",
    "    # The final value (9) marks the end of the last row"
   ]
  },
  {
   "cell_type": "markdown",
   "metadata": {},
   "source": [
    "## 7. Solving Sparse Linear Equations\n",
    "The `splinalg.spsolve()` function can be used to solve a system of linear equations with sparse matrices. The function requires two inputs:\n",
    "- a sparse matrix\n",
    "- a column vector\n",
    "\n",
    "and outputs a column vector which is the solution to the system of linear equations."
   ]
  },
  {
   "cell_type": "code",
   "execution_count": 9,
   "metadata": {},
   "outputs": [
    {
     "data": {
      "text/plain": [
       "array([-17.,   5.,   2.])"
      ]
     },
     "execution_count": 9,
     "metadata": {},
     "output_type": "execute_result"
    }
   ],
   "source": [
    "splinalg.spsolve(L_sparse, np.array([1, 2, 3])) # solve the system of linear equations"
   ]
  }
 ],
 "metadata": {
  "kernelspec": {
   "display_name": "burmeseAI_env",
   "language": "python",
   "name": "python3"
  },
  "language_info": {
   "codemirror_mode": {
    "name": "ipython",
    "version": 3
   },
   "file_extension": ".py",
   "mimetype": "text/x-python",
   "name": "python",
   "nbconvert_exporter": "python",
   "pygments_lexer": "ipython3",
   "version": "3.9.19"
  }
 },
 "nbformat": 4,
 "nbformat_minor": 2
}
